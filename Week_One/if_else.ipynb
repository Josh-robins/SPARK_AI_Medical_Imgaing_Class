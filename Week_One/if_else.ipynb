{
  "nbformat": 4,
  "nbformat_minor": 0,
  "metadata": {
    "colab": {
      "provenance": [],
      "authorship_tag": "ABX9TyM2a3LZxdVrOmEKlBfi4fe9",
      "include_colab_link": true
    },
    "kernelspec": {
      "name": "python3",
      "display_name": "Python 3"
    },
    "language_info": {
      "name": "python"
    }
  },
  "cells": [
    {
      "cell_type": "markdown",
      "metadata": {
        "id": "view-in-github",
        "colab_type": "text"
      },
      "source": [
        "<a href=\"https://colab.research.google.com/github/Josh-robins/SPARK_AI_Medical_Imgaing_Class/blob/main/Week_One/if_else.ipynb\" target=\"_parent\"><img src=\"https://colab.research.google.com/assets/colab-badge.svg\" alt=\"Open In Colab\"/></a>"
      ]
    },
    {
      "cell_type": "code",
      "source": [
        "def scan_type_classification():\n",
        "    \"\"\"\n",
        "    Given modality = \"MRI\", write an if-elif-else statement that prints:\n",
        "    \"Magnetic Resonance Imaging\" for \"MRI\",\n",
        "    \"Computed Tomography\" for \"CT\",\n",
        "    \"Other imaging modality\" otherwise.\n",
        "\n",
        "    Returns:\n",
        "        str: The classification of the imaging modality.\n",
        "    \"\"\"\n",
        "    modality = \"MRI\"\n",
        "    if modality == \"MRI\":\n",
        "        return \"Magnetic Resonance Imaging\"\n",
        "    elif modality == \"CT\":\n",
        "        return \"Computed Tomography\"\n",
        "    else:\n",
        "        return \"Other imaging modality\"\n",
        "\n",
        "print(scan_type_classification())"
      ],
      "metadata": {
        "colab": {
          "base_uri": "https://localhost:8080/"
        },
        "id": "F4TMIBSbn6Xe",
        "outputId": "5d6e70f7-f945-4da4-f160-3cfda4e3074e"
      },
      "execution_count": 1,
      "outputs": [
        {
          "output_type": "stream",
          "name": "stdout",
          "text": [
            "Magnetic Resonance Imaging\n"
          ]
        }
      ]
    },
    {
      "cell_type": "code",
      "source": [
        "def patient_risk_level():\n",
        "    \"\"\"\n",
        "    Given age = 65, classify the patient’s risk level:\n",
        "    \"High risk\" if age > 60,\n",
        "    \"Moderate risk\" if 40 ≤ age ≤ 60,\n",
        "    \"Low risk\" otherwise.\n",
        "\n",
        "    Returns:\n",
        "        str: The patient risk classification.\n",
        "    \"\"\"\n",
        "    age = 65\n",
        "    if age > 60:\n",
        "        return \"High risk\"\n",
        "    elif 40 <= age <= 60:\n",
        "        return \"Moderate risk\"\n",
        "    else:\n",
        "        return \"Low risk\"\n",
        "\n",
        "print(patient_risk_level())\n"
      ],
      "metadata": {
        "colab": {
          "base_uri": "https://localhost:8080/"
        },
        "id": "kWvMLJMtpREQ",
        "outputId": "3a627aa8-38b9-49f0-e291-d9baa1c1c021"
      },
      "execution_count": 2,
      "outputs": [
        {
          "output_type": "stream",
          "name": "stdout",
          "text": [
            "High risk\n"
          ]
        }
      ]
    },
    {
      "cell_type": "code",
      "source": [
        "def image_resolution_classification():\n",
        "    \"\"\"\n",
        "    Given resolution = \"512x512\", write an if-elif-else statement that classifies it as:\n",
        "    \"Low Resolution\" if width < 512,\n",
        "    \"Medium Resolution\" for 512 ≤ width ≤ 1024,\n",
        "    \"High Resolution\" otherwise.\n",
        "\n",
        "    Returns:\n",
        "        str: The resolution classification.\n",
        "    \"\"\"\n",
        "    resolution = \"512x512\"\n",
        "    resolution_split= (resolution.split(\"x\"))\n",
        "    print(resolution_split)\n",
        "    width = int(resolution_split[0])\n",
        "    if width < 512:\n",
        "        return \"Low Resolution\"\n",
        "    elif 512 <= width <= 1024:\n",
        "        return \"Medium Resolution\"\n",
        "    return \"High Resolution\"\n",
        "\n",
        "print(image_resolution_classification())\n"
      ],
      "metadata": {
        "colab": {
          "base_uri": "https://localhost:8080/"
        },
        "id": "2_cun_HJpWLr",
        "outputId": "15a27639-147c-4789-cba8-ab4096ae81fa"
      },
      "execution_count": 16,
      "outputs": [
        {
          "output_type": "stream",
          "name": "stdout",
          "text": [
            "['512', '512']\n",
            "Medium Resolution\n"
          ]
        }
      ]
    },
    {
      "cell_type": "code",
      "source": [
        "\n",
        "def determine_contrast_type():\n",
        "    \"\"\"\n",
        "    Determine Contrast Type for MRI:\n",
        "    If patient_age < 10, use \"Pediatric contrast\",\n",
        "    If 10 ≤ patient_age < 60, use \"Standard contrast\",\n",
        "    Otherwise, use \"Low-dose contrast\".\n",
        "\n",
        "    Returns:\n",
        "        str: The contrast type.\n",
        "    \"\"\"\n",
        "    patient_age = 15\n",
        "    if patient_age < 10:\n",
        "        return \"Pediatric contrast\"\n",
        "    elif 10 <= patient_age < 60:\n",
        "        return \"Standard contrast\"\n",
        "    else:\n",
        "        return \"Low-dose contrast\"\n",
        "\n",
        "print(determine_contrast_type())"
      ],
      "metadata": {
        "colab": {
          "base_uri": "https://localhost:8080/"
        },
        "id": "usw91XxCsDqs",
        "outputId": "02b49e64-f142-4518-e20b-e11b2a917a61"
      },
      "execution_count": 19,
      "outputs": [
        {
          "output_type": "stream",
          "name": "stdout",
          "text": [
            "Standard contrast\n"
          ]
        }
      ]
    },
    {
      "cell_type": "code",
      "source": [
        "def scan_time_warning():\n",
        "    \"\"\"\n",
        "    Given scan_time in minutes, print:\n",
        "    \"Fast scan\" if time < 10,\n",
        "    \"Optimal scan\" if 10 ≤ time ≤ 20,\n",
        "    \"Long scan, check settings\" otherwise.\n",
        "\n",
        "    Returns:\n",
        "        str: The scan time classification.\n",
        "    \"\"\"\n",
        "    scan_time = 25\n",
        "    if scan_time < 10:\n",
        "        return \"Fast scan\"\n",
        "    elif 10 <= scan_time <= 20:\n",
        "        return \"Optimal scan\"\n",
        "    else:\n",
        "        return \"Long scan, check settings\"\n",
        "\n",
        "print(scan_time_warning())"
      ],
      "metadata": {
        "colab": {
          "base_uri": "https://localhost:8080/"
        },
        "id": "5Psg97YXsW6t",
        "outputId": "563959be-c621-494c-e156-cb6621352d00"
      },
      "execution_count": 21,
      "outputs": [
        {
          "output_type": "stream",
          "name": "stdout",
          "text": [
            "Long scan, check settings\n"
          ]
        }
      ]
    },
    {
      "cell_type": "code",
      "source": [
        "def detect_motion_artifacts():\n",
        "    \"\"\"\n",
        "    Given motion_level (ranging from 1 to 5), classify as:\n",
        "    \"Minimal artifact\" if motion_level == 1,\n",
        "    \"Moderate artifact\" if 2 ≤ motion_level ≤ 3,\n",
        "    \"Severe artifact, re-scan required\" otherwise.\n",
        "\n",
        "    Returns:\n",
        "        str: The motion artifact classification.\n",
        "    \"\"\"\n",
        "    motion_level = 3\n",
        "    if motion_level == 1:\n",
        "        return \"Minimal artifact\"\n",
        "    elif 2 <= motion_level <= 3:\n",
        "        return \"Moderate artifact\"\n",
        "    else:\n",
        "        return \"Severe artifact, re-scan required\"\n",
        "\n",
        "print(detect_motion_artifacts())"
      ],
      "metadata": {
        "colab": {
          "base_uri": "https://localhost:8080/"
        },
        "id": "xZ581CDxsthL",
        "outputId": "6ef02031-a1ea-49e1-92e5-1b0566b7f62e"
      },
      "execution_count": 22,
      "outputs": [
        {
          "output_type": "stream",
          "name": "stdout",
          "text": [
            "Moderate artifact\n"
          ]
        }
      ]
    },
    {
      "cell_type": "code",
      "source": [
        "def check_scan_time():\n",
        "    \"\"\"\n",
        "    Given scan_time = 12.5 (in minutes), write an if-else statement that prints \"Scan completed successfully\"\n",
        "    if the scan time is less than 15 minutes, otherwise print \"Scan took too long\".\n",
        "\n",
        "    Returns:\n",
        "        str: The scan completion status.\n",
        "    \"\"\"\n",
        "    scan_time = 12.5\n",
        "    if scan_time < 15:\n",
        "        return \"Scan completed successfully\"\n",
        "    else:\n",
        "        return \"Scan took too long\"\n",
        "\n",
        "print(check_scan_time())\n"
      ],
      "metadata": {
        "colab": {
          "base_uri": "https://localhost:8080/"
        },
        "id": "erdCffM9sxFi",
        "outputId": "23a00ab4-206e-49ed-8b0d-80585a7c264c"
      },
      "execution_count": 23,
      "outputs": [
        {
          "output_type": "stream",
          "name": "stdout",
          "text": [
            "Scan completed successfully\n"
          ]
        }
      ]
    },
    {
      "cell_type": "code",
      "source": [
        "def contrast_injection_decision():\n",
        "    \"\"\"\n",
        "    A CT scan requires contrast if the patient’s weight is above 70 kg. Write an if-else statement that prints\n",
        "    \"Inject contrast\" if patient_weight > 70, otherwise \"No contrast needed\".\n",
        "\n",
        "    Returns:\n",
        "        str: The contrast injection decision.\n",
        "    \"\"\"\n",
        "    patient_weight = 70\n",
        "    if patient_weight > 70:\n",
        "        return \"Inject contrast\"\n",
        "    else:\n",
        "        return \"No contrast needed\"\n",
        "\n",
        "print(contrast_injection_decision())\n"
      ],
      "metadata": {
        "colab": {
          "base_uri": "https://localhost:8080/"
        },
        "id": "xJxiwiVZs6YO",
        "outputId": "46384c80-67dd-4c74-f5fc-fddf218a130e"
      },
      "execution_count": 24,
      "outputs": [
        {
          "output_type": "stream",
          "name": "stdout",
          "text": [
            "No contrast needed\n"
          ]
        }
      ]
    },
    {
      "cell_type": "code",
      "source": [
        "def abnormal_suv_detection():\n",
        "    \"\"\"\n",
        "    Given a PET scan SUV value suv = 4.2, print \"Abnormal\" if the SUV value is greater than 3.5, otherwise \"Normal\".\n",
        "\n",
        "    Returns:\n",
        "        str: The SUV classification.\n",
        "    \"\"\"\n",
        "    suv = 3.2\n",
        "    if suv > 3.5:\n",
        "      return \"Abnormal\"\n",
        "    return \"Normal\"\n",
        "print(abnormal_suv_detection())"
      ],
      "metadata": {
        "colab": {
          "base_uri": "https://localhost:8080/"
        },
        "id": "cvOSUUOotDCi",
        "outputId": "70b347dd-f8cd-4443-a4b5-f8ff38b8b6eb"
      },
      "execution_count": 26,
      "outputs": [
        {
          "output_type": "stream",
          "name": "stdout",
          "text": [
            "Normal\n"
          ]
        }
      ]
    },
    {
      "cell_type": "code",
      "source": [
        "def patient_age_validation():\n",
        "    \"\"\"\n",
        "    Given age = 16, write an if-else statement that prints \"Eligible for MRI\" if the patient is 18 or older,\n",
        "    otherwise \"MRI not recommended for minors\".\n",
        "\n",
        "    Returns:\n",
        "        str: The MRI eligibility decision.\n",
        "    \"\"\"\n",
        "    age = 16\n",
        "    if age >= 18:\n",
        "      return \"Eligible for MRI\"\n",
        "    return \"MRI not recommended for minors\"\n",
        "print(patient_age_validation())"
      ],
      "metadata": {
        "colab": {
          "base_uri": "https://localhost:8080/"
        },
        "id": "61LolIbatuGB",
        "outputId": "b4e9d908-175a-4b6d-f534-72726a143b58"
      },
      "execution_count": 27,
      "outputs": [
        {
          "output_type": "stream",
          "name": "stdout",
          "text": [
            "MRI not recommended for minors\n"
          ]
        }
      ]
    },
    {
      "cell_type": "code",
      "source": [
        "def check_if_grayscale():\n",
        "    \"\"\"\n",
        "    Given channels = 1, write an if-else statement to print \"Grayscale Image\" if channels == 1,\n",
        "    otherwise print \"Color Image\".\n",
        "\n",
        "    Returns:\n",
        "        str: The image type classification.\n",
        "    \"\"\"\n",
        "    channels = 1\n",
        "    if channels == 1:\n",
        "      return \"Grayscale Image\"\n",
        "\n",
        "    return \"Color Image\"\n",
        "print(check_if_grayscale())"
      ],
      "metadata": {
        "colab": {
          "base_uri": "https://localhost:8080/"
        },
        "id": "Xi-l80HfuH0k",
        "outputId": "13f85edc-31ef-490c-f6b3-725ea21dd570"
      },
      "execution_count": 29,
      "outputs": [
        {
          "output_type": "stream",
          "name": "stdout",
          "text": [
            "Grayscale Image\n"
          ]
        }
      ]
    }
  ]
}