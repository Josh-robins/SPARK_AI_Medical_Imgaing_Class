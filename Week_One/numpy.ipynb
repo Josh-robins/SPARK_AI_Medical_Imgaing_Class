{
  "nbformat": 4,
  "nbformat_minor": 0,
  "metadata": {
    "colab": {
      "provenance": [],
      "authorship_tag": "ABX9TyNmmPHQL16Sfkbvdzz/x2sO",
      "include_colab_link": true
    },
    "kernelspec": {
      "name": "python3",
      "display_name": "Python 3"
    },
    "language_info": {
      "name": "python"
    }
  },
  "cells": [
    {
      "cell_type": "markdown",
      "metadata": {
        "id": "view-in-github",
        "colab_type": "text"
      },
      "source": [
        "<a href=\"https://colab.research.google.com/github/Josh-robins/SPARK_AI_Medical_Imgaing_Class/blob/main/Week_One/numpy.ipynb\" target=\"_parent\"><img src=\"https://colab.research.google.com/assets/colab-badge.svg\" alt=\"Open In Colab\"/></a>"
      ]
    },
    {
      "cell_type": "markdown",
      "source": [
        "Numpy as fundamental library in Python for scientific computing.\n",
        "**Core Functionality**\n",
        "\n",
        "> Multidimensional Arrays:\n",
        "\n",
        "NumPy's core data structure is the ndarray, which represents a grid of values (also called a matrix or tensor). This is a very efficient way to store and manipulate large amounts of data. The ndarray is homogeneous, meaning all its elements are of the same type, allowing for better memory optimization.\n",
        "\n",
        "> Mathematical Operations:\n",
        "\n",
        "NumPy provides a vast collection of functions for performing mathematical operations on these arrays. These include:\n",
        "    *   Linear Algebra: Matrix multiplication, decompositions, etc.\n",
        "    *   Fourier Transforms\n",
        "    *   Trigonometric Functions\n",
        "    *   Statistical Operations: Mean, standard deviation, percentiles, etc.\n",
        "    *   Random simulation\n",
        "\n",
        "> Optimized Performance:\n",
        "\n",
        "NumPy's operations are implemented in compiled C code, which makes them much faster than doing the same operations with standard Python lists."
      ],
      "metadata": {
        "id": "I6G_BfNedyO3"
      }
    },
    {
      "cell_type": "code",
      "source": [
        "import numpy as np\n",
        "\n",
        "def find_scan_time_range():\n",
        "    \"\"\"\n",
        "    Exercise 21: Find minimum and maximum scan times.\n",
        "\n",
        "    Returns:\n",
        "        tuple: (minimum scan time, maximum scan time)\n",
        "    \"\"\"\n",
        "    scan_times = np.array([12.5, 8.0, 15.2, 10.3])\n",
        "\n",
        "    # TODO: Find min and max values\n",
        "    min_time = np.min(scan_times) # ommiting np would not affect the value eg min(scan_times) would still run\n",
        "    max_time = np.max(scan_times)\n",
        "\n",
        "    return min_time, max_time\n",
        "\n",
        "print(find_scan_time_range())\n",
        ""
      ],
      "metadata": {
        "colab": {
          "base_uri": "https://localhost:8080/"
        },
        "id": "ko-nazt8fYM7",
        "outputId": "8a49d261-09c3-4233-81cf-836a4bd7862e"
      },
      "execution_count": 8,
      "outputs": [
        {
          "output_type": "stream",
          "name": "stdout",
          "text": [
            "(8.0, 15.2)\n"
          ]
        }
      ]
    },
    {
      "cell_type": "code",
      "source": [
        "def calculate_mean_suv():\n",
        "    \"\"\"\n",
        "    Exercise 22: Calculate mean SUV value.\n",
        "\n",
        "    Returns:\n",
        "        float: Mean SUV value\n",
        "    \"\"\"\n",
        "    suv_values = np.array([2.3, 4.1, 1.8, 5.6, 3.9])\n",
        "\n",
        "    # TODO: Calculate mean value\n",
        "    mean_suv = np.average(suv_values)\n",
        "\n",
        "    return mean_suv\n",
        "\n",
        "print(calculate_mean_suv())"
      ],
      "metadata": {
        "colab": {
          "base_uri": "https://localhost:8080/"
        },
        "id": "lNsCZ2vxgRJ-",
        "outputId": "a68a03bd-d47f-4071-8e29-32444ac29045"
      },
      "execution_count": 7,
      "outputs": [
        {
          "output_type": "stream",
          "name": "stdout",
          "text": [
            "3.54\n"
          ]
        }
      ]
    },
    {
      "cell_type": "code",
      "source": [
        "def normalize_suv_values():\n",
        "    \"\"\"\n",
        "    Exercise 23: Normalize SUV values using (value - min) / (max - min).\n",
        "\n",
        "    Returns:\n",
        "        numpy.ndarray: Array of normalized SUV values\n",
        "    \"\"\"\n",
        "    suv_values = np.array([2.3, 4.1, 1.8, 5.6, 3.9])\n",
        "\n",
        "    # TODO: Implement normalization\n",
        "    normalized_suv = (suv_values - np.min(suv_values)) / (np.max(suv_values) - np.min(suv_values))\n",
        "\n",
        "    return normalized_suv\n",
        "\n",
        "print(normalize_suv_values())"
      ],
      "metadata": {
        "colab": {
          "base_uri": "https://localhost:8080/"
        },
        "id": "RCH7gF7Ng20Q",
        "outputId": "89f2fd00-60f7-49a1-8754-ca232a57f03b"
      },
      "execution_count": 9,
      "outputs": [
        {
          "output_type": "stream",
          "name": "stdout",
          "text": [
            "[0.13157895 0.60526316 0.         1.         0.55263158]\n"
          ]
        }
      ]
    },
    {
      "cell_type": "code",
      "source": [
        "def threshold_scan_times():\n",
        "    \"\"\"\n",
        "    Exercise 24: Create array where values > 10 are \"Long\", others \"Short\".\n",
        "\n",
        "    Returns:\n",
        "        numpy.ndarray: Array of scan time classifications\n",
        "    \"\"\"\n",
        "    scan_times = np.array([12.5, 8.0, 15.2, 10.3])\n",
        "\n",
        "    # TODO: Implement thresholding\n",
        "    thresholded_times = np.where(scan_times > 10, \"Long\", \"Short\")\n",
        "\n",
        "    return thresholded_times\n",
        "print(threshold_scan_times())"
      ],
      "metadata": {
        "colab": {
          "base_uri": "https://localhost:8080/"
        },
        "id": "OqaXw3CSh8vR",
        "outputId": "0ce8ddc0-43c0-424c-ca8a-a110ccc58b96"
      },
      "execution_count": 11,
      "outputs": [
        {
          "output_type": "stream",
          "name": "stdout",
          "text": [
            "['Long' 'Short' 'Long' 'Long']\n"
          ]
        }
      ]
    },
    {
      "cell_type": "code",
      "source": [
        "def transform_pixel_intensities():\n",
        "    \"\"\"\n",
        "    Exercise 25: Apply log transformation to pixel intensities.\n",
        "\n",
        "    Returns:\n",
        "        numpy.ndarray: Array of log-transformed intensities\n",
        "    \"\"\"\n",
        "    pixel_intensities = np.array([10, 50, 100, 200])\n",
        "\n",
        "    # TODO: Apply log transformation\n",
        "    transformed = np.log(pixel_intensities)\n",
        "\n",
        "    return transformed\n",
        "print(transform_pixel_intensities())"
      ],
      "metadata": {
        "colab": {
          "base_uri": "https://localhost:8080/"
        },
        "id": "M_MzF4o2ibCp",
        "outputId": "ace5ead1-ef90-47a5-a458-4c2029de41ff"
      },
      "execution_count": 12,
      "outputs": [
        {
          "output_type": "stream",
          "name": "stdout",
          "text": [
            "[2.30258509 3.91202301 4.60517019 5.29831737]\n"
          ]
        }
      ]
    },
    {
      "cell_type": "code",
      "execution_count": 18,
      "metadata": {
        "colab": {
          "base_uri": "https://localhost:8080/"
        },
        "id": "2ntkXq9QdVDm",
        "outputId": "b879e7d0-919b-4f07-9e39-eeb1d5c59666"
      },
      "outputs": [
        {
          "output_type": "stream",
          "name": "stdout",
          "text": [
            "2\n"
          ]
        }
      ],
      "source": [
        "def count_threshold_pixels():\n",
        "    \"\"\"\n",
        "    Exercise 26: Count pixels with values > 200 in a CT scan.\n",
        "\n",
        "    Returns:\n",
        "        int: Number of pixels above threshold\n",
        "    \"\"\"\n",
        "    ct_scan = np.array([120, 250, 300, 100])\n",
        "\n",
        "    # TODO: Count pixels above threshold\n",
        "    count = np.sum(ct_scan > 200)\n",
        "\n",
        "    return count\n",
        "\n",
        "print(count_threshold_pixels())"
      ]
    },
    {
      "cell_type": "markdown",
      "source": [],
      "metadata": {
        "id": "83RwoMwKdwba"
      }
    }
  ]
}