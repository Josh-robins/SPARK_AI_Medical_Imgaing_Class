{
  "nbformat": 4,
  "nbformat_minor": 0,
  "metadata": {
    "colab": {
      "provenance": [],
      "authorship_tag": "ABX9TyP8ibaeXT2lx50xLltuHm66",
      "include_colab_link": true
    },
    "kernelspec": {
      "name": "python3",
      "display_name": "Python 3"
    },
    "language_info": {
      "name": "python"
    }
  },
  "cells": [
    {
      "cell_type": "markdown",
      "metadata": {
        "id": "view-in-github",
        "colab_type": "text"
      },
      "source": [
        "<a href=\"https://colab.research.google.com/github/Josh-robins/SPARK_AI_Medical_Imgaing_Class/blob/main/Week_One/variables.ipynb\" target=\"_parent\"><img src=\"https://colab.research.google.com/assets/colab-badge.svg\" alt=\"Open In Colab\"/></a>"
      ]
    },
    {
      "cell_type": "markdown",
      "source": [
        "Understanding variables"
      ],
      "metadata": {
        "id": "eHpktlspm_an"
      }
    },
    {
      "cell_type": "code",
      "source": [
        "def basic_variable():\n",
        "    \"\"\"\n",
        "    Exercise 1: Basic Variable Assignment\n",
        "    Define a variable modality and assign it the value \"MRI\". Then, return its type.\n",
        "\n",
        "    Returns:\n",
        "        type: The type of the variable modality\n",
        "    \"\"\"\n",
        "    # TODO: Create variable modality and assign \"MRI\"\n",
        "    modality = \"MRI\"\n",
        "\n",
        "    # TODO: Return the type of modality\n",
        "    return modality\n",
        "print(basic_variable())"
      ],
      "metadata": {
        "colab": {
          "base_uri": "https://localhost:8080/"
        },
        "id": "73El0uKUlnJ6",
        "outputId": "8cb14dad-09b6-4d6b-cc41-877c1876c0cb"
      },
      "execution_count": 1,
      "outputs": [
        {
          "output_type": "stream",
          "name": "stdout",
          "text": [
            "MRI\n"
          ]
        }
      ]
    },
    {
      "cell_type": "code",
      "source": [
        "def calculate_mri_difference():\n",
        "    \"\"\"\n",
        "    Exercise 2: Numeric Operations\n",
        "    Calculate the difference in field strength between research MRI (7.0T) and clinical MRI (1.5T).\n",
        "\n",
        "    Returns:\n",
        "        float: The difference in Tesla between research MRI and clinical MRI\n",
        "    \"\"\"\n",
        "    # TODO: Assign values to clinical_mri and research_mri\n",
        "    clinical_mri = float(7.0)  # Tesla\n",
        "    research_mri = float(1.5) # Tesla\n",
        "\n",
        "    # TODO: Calculate and return the difference\n",
        "    return clinical_mri - research_mri\n",
        "print(calculate_mri_difference())"
      ],
      "metadata": {
        "colab": {
          "base_uri": "https://localhost:8080/"
        },
        "id": "Jek4U5-Ilvxx",
        "outputId": "4aead784-fcbd-4370-ed91-ac571c418d9c"
      },
      "execution_count": 2,
      "outputs": [
        {
          "output_type": "stream",
          "name": "stdout",
          "text": [
            "5.5\n"
          ]
        }
      ]
    },
    {
      "cell_type": "code",
      "source": [
        "def modify_scan_type():\n",
        "    \"\"\"\n",
        "    Exercise 3: String Manipulation\n",
        "    Given scan_type = \"functional MRI\", convert it to uppercase and replace \"FUNCTIONAL\" with \"FMRI\".\n",
        "\n",
        "    Returns:\n",
        "        str: The modified scan type string\n",
        "    \"\"\"\n",
        "    scan_type = \"functional MRI\"\n",
        "\n",
        "    # TODO: Convert to uppercase and replace \"FUNCTIONAL\" with \"FMRI\"\n",
        "    modified_scan_type = scan_type.upper().replace(\"FUNCTIONAL\", \"FMRI\")\n",
        "\n",
        "    return modified_scan_type\n",
        "print(modify_scan_type())"
      ],
      "metadata": {
        "colab": {
          "base_uri": "https://localhost:8080/"
        },
        "id": "fxZWBdvFl_C5",
        "outputId": "5bd9e54e-add8-4c16-c7b3-69578c958942"
      },
      "execution_count": 3,
      "outputs": [
        {
          "output_type": "stream",
          "name": "stdout",
          "text": [
            "FMRI MRI\n"
          ]
        }
      ]
    },
    {
      "cell_type": "code",
      "source": [
        "def check_abnormality():\n",
        "    \"\"\"\n",
        "    Exercise 4: Boolean Variables\n",
        "    Check abnormality_detected (True) and return appropriate message:\n",
        "    - If True: \"Abnormality detected in the CT scan. Further investigation required.\"\n",
        "    - If False: \"No abnormalities detected in the CT scan.\"\n",
        "\n",
        "    Returns:\n",
        "        str: Message indicating whether abnormality was detected\n",
        "    \"\"\"\n",
        "    abnormality_detected = True\n",
        "\n",
        "    # TODO: Write if-else condition and return appropriate message\n",
        "    if abnormality_detected:  # Replace None with condition\n",
        "        return \"Abnormality detected in the CT scan. Further investigation required.\"\n",
        "    else:\n",
        "        return \"No abnormalities detected in the CT scan.\"\n",
        "print(check_abnormality())\n"
      ],
      "metadata": {
        "colab": {
          "base_uri": "https://localhost:8080/"
        },
        "id": "z2FqFxPwmbX7",
        "outputId": "adde0178-488e-49df-c63b-6723d8fcee6b"
      },
      "execution_count": 4,
      "outputs": [
        {
          "output_type": "stream",
          "name": "stdout",
          "text": [
            "Abnormality detected in the CT scan. Further investigation required.\n"
          ]
        }
      ]
    },
    {
      "cell_type": "code",
      "execution_count": 5,
      "metadata": {
        "colab": {
          "base_uri": "https://localhost:8080/"
        },
        "id": "dnPq84C-k61m",
        "outputId": "9747fed5-3df0-4f7f-a8a0-ab6a2edc3e0b"
      },
      "outputs": [
        {
          "output_type": "stream",
          "name": "stdout",
          "text": [
            "4.18\n"
          ]
        }
      ],
      "source": [
        "def convert_suv():\n",
        "    \"\"\"\n",
        "    Exercise 5: Type Conversion\n",
        "    Convert suv = \"3.8\" to float and increase by 10%.\n",
        "\n",
        "    Returns:\n",
        "        float: The adjusted SUV value\n",
        "    \"\"\"\n",
        "    suv = \"3.8\"\n",
        "\n",
        "    # TODO: Convert suv to float\n",
        "    suv_float = float(suv)\n",
        "\n",
        "    # TODO: Increase value by 10% and return\n",
        "    return suv_float * 1.1\n",
        "print(convert_suv())\n"
      ]
    }
  ]
}