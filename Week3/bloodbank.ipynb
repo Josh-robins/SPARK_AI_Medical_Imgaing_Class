{
  "nbformat": 4,
  "nbformat_minor": 0,
  "metadata": {
    "colab": {
      "provenance": [],
      "authorship_tag": "ABX9TyPzR8wqMJjIrT1zuPp9FvFS",
      "include_colab_link": true
    },
    "kernelspec": {
      "name": "python3",
      "display_name": "Python 3"
    },
    "language_info": {
      "name": "python"
    }
  },
  "cells": [
    {
      "cell_type": "markdown",
      "metadata": {
        "id": "view-in-github",
        "colab_type": "text"
      },
      "source": [
        "<a href=\"https://colab.research.google.com/github/Josh-robins/SPARK_AI_Medical_Imgaing_Class/blob/main/Week3/bloodbank.ipynb\" target=\"_parent\"><img src=\"https://colab.research.google.com/assets/colab-badge.svg\" alt=\"Open In Colab\"/></a>"
      ]
    },
    {
      "cell_type": "code",
      "execution_count": 1,
      "metadata": {
        "colab": {
          "base_uri": "https://localhost:8080/"
        },
        "id": "5JuM7pGeXkHy",
        "outputId": "509016cc-0816-4f49-9dde-26a73f920c0c"
      },
      "outputs": [
        {
          "output_type": "stream",
          "name": "stdout",
          "text": [
            "--- Demo Usage ---\n",
            "Initial units available: 10\n",
            "Blood type: O+\n",
            "5 units of blood donated\n",
            "Units after donation: 15\n",
            "7 units of blood requested\n",
            "Units after request: 8\n",
            "\n",
            "--- Running Tests ---\n",
            "5 units of blood donated\n",
            "7 units of blood requested\n",
            "All tests passed!\n"
          ]
        }
      ],
      "source": [
        "import pytest\n",
        "\n",
        "# Blood Bank Implementation\n",
        "class BloodBank:\n",
        "    def __init__(self, blood_type, units_available):\n",
        "        self.blood_type = blood_type\n",
        "        self.units_available = units_available\n",
        "\n",
        "    def donate_blood(self, units):\n",
        "        if units > 0:\n",
        "            self.units_available += units\n",
        "            print(f\"{units} units of blood donated\")\n",
        "        else:\n",
        "            print(\"Invalid units. Units must be greater than 0.\")\n",
        "\n",
        "    def request_blood(self, units):\n",
        "        if self.units_available >= units:\n",
        "            self.units_available -= units\n",
        "            print(f\"{units} units of blood requested\")\n",
        "        else:\n",
        "            print(\"Insufficient blood units available.\")\n",
        "\n",
        "# Demo usage\n",
        "print(\"--- Demo Usage ---\")\n",
        "bank = BloodBank(\"O+\", 10)\n",
        "print(f\"Initial units available: {bank.units_available}\")\n",
        "print(f\"Blood type: {bank.blood_type}\")\n",
        "\n",
        "bank.donate_blood(5)\n",
        "print(f\"Units after donation: {bank.units_available}\")\n",
        "\n",
        "bank.request_blood(7)\n",
        "print(f\"Units after request: {bank.units_available}\")\n",
        "\n",
        "# Test Cases\n",
        "print(\"\\n--- Running Tests ---\")\n",
        "def test_blood_bank():\n",
        "    bank = BloodBank(\"O+\", 10)\n",
        "    assert bank.blood_type == \"O+\"\n",
        "    assert bank.units_available == 10\n",
        "\n",
        "    bank.donate_blood(5)\n",
        "    assert bank.units_available == 15\n",
        "\n",
        "    bank.request_blood(7)\n",
        "    assert bank.units_available == 8\n",
        "\n",
        "    return \"All tests passed!\"\n",
        "\n",
        "# Run the test and print result\n",
        "print(test_blood_bank())"
      ]
    }
  ]
}