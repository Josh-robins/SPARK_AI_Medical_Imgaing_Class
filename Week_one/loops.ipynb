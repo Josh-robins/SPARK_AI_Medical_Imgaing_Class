{
  "nbformat": 4,
  "nbformat_minor": 0,
  "metadata": {
    "colab": {
      "provenance": [],
      "authorship_tag": "ABX9TyMplNe8aHs+oF5uXngkJ8v2",
      "include_colab_link": true
    },
    "kernelspec": {
      "name": "python3",
      "display_name": "Python 3"
    },
    "language_info": {
      "name": "python"
    }
  },
  "cells": [
    {
      "cell_type": "markdown",
      "metadata": {
        "id": "view-in-github",
        "colab_type": "text"
      },
      "source": [
        "<a href=\"https://colab.research.google.com/github/Josh-robins/SPARK_AI_Medical_Imgaing_Class/blob/main/Week_one/loops.ipynb\" target=\"_parent\"><img src=\"https://colab.research.google.com/assets/colab-badge.svg\" alt=\"Open In Colab\"/></a>"
      ]
    },
    {
      "cell_type": "code",
      "source": [
        "def print_scan_timer(scan_time):\n",
        "    \"\"\"\n",
        "    Exercise 17: Use a while loop to simulate an MRI scan timer.\n",
        "    Print \"Scanning... X minutes remaining\" until time reaches 0.\n",
        "\n",
        "    Args:\n",
        "        scan_time (int): Initial scan time in minutes\n",
        "\n",
        "    Returns:\n",
        "        list: List of status messages generated\n",
        "    \"\"\"\n",
        "    messages = []\n",
        "    while scan_time > 0:\n",
        "        messages.append(f\"Scanning... {scan_time} minutes remaining\")\n",
        "        scan_time -= 1\n",
        "    # TODO: Implement while loop to generate timer messages\n",
        "\n",
        "    messages.append(\"Scan complete!\")\n",
        "    return messages\n",
        "print(print_scan_timer(5))"
      ],
      "metadata": {
        "colab": {
          "base_uri": "https://localhost:8080/"
        },
        "id": "d9KhWkr3Uw_g",
        "outputId": "6d1a25da-6137-4672-e649-9dbc3fab6d59"
      },
      "execution_count": 3,
      "outputs": [
        {
          "output_type": "stream",
          "name": "stdout",
          "text": [
            "['Scanning... 5 minutes remaining', 'Scanning... 4 minutes remaining', 'Scanning... 3 minutes remaining', 'Scanning... 2 minutes remaining', 'Scanning... 1 minutes remaining', 'Scan complete!']\n"
          ]
        }
      ]
    },
    {
      "cell_type": "markdown",
      "source": [
        "Scenario: Motion Artifact Reduction\n",
        "\n",
        "Imagine you're working with medical imaging data, and sometimes there are motion artifacts that degrade the image quality. You need to write a function that simulates a process to reduce the \"motion level\" in the image.\n",
        "\n",
        "Task: reduce_motion_artifacts Function\n",
        "\n",
        "Write a function called reduce_motion_artifacts that does the following:\n",
        "\n",
        "Starting Point: It starts with an initial motion_level of 5 (representing a high level of motion).\n",
        "Reduction: In each iteration of a while loop, it should reduce the motion_level by 1.\n",
        "Printing: It should print the current motion_level in each iteration of the loop.\n",
        "Termination: The loop should continue until the motion_level reaches 1 (representing minimal motion).\n",
        "Return: The function should return a list of all the motion levels that were recorded during the reduction process."
      ],
      "metadata": {
        "id": "I-7jsPrfWEdf"
      }
    },
    {
      "cell_type": "code",
      "source": [
        "\n",
        "def find_first_abnormal():\n",
        "    \"\"\"\n",
        "    Exercise 18: Find first SUV value > 3.5 using while loop.\n",
        "\n",
        "    Returns:\n",
        "        float: First SUV value greater than 3.5\n",
        "    \"\"\"\n",
        "    suv_values = [2.3, 3.2, 3.4, 2.6, 3.0]\n",
        "    while suv_values:\n",
        "        suv_value = suv_values.pop(0)\n",
        "        if suv_value > 3.5:\n",
        "            return suv_value\n",
        "    # TODO: Implement while loop to find first abnormal value\n",
        "    return None\n",
        "print(find_first_abnormal())\n"
      ],
      "metadata": {
        "colab": {
          "base_uri": "https://localhost:8080/"
        },
        "id": "8oqRgFEeXocI",
        "outputId": "bc64f7af-fb83-4063-a6f2-14b0031d9cb4"
      },
      "execution_count": 14,
      "outputs": [
        {
          "output_type": "stream",
          "name": "stdout",
          "text": [
            "None\n"
          ]
        }
      ]
    },
    {
      "cell_type": "code",
      "source": [
        "def reduce_motion_artifacts():\n",
        "    \"\"\"\n",
        "    Exercise 19: Reduce motion_level from 5 to 1, printing each value.\n",
        "\n",
        "    Returns:\n",
        "        list: List of motion levels during reduction\n",
        "    \"\"\"\n",
        "    motion_level = 5\n",
        "    levels = []\n",
        "    while motion_level > 1:\n",
        "        print(f\"Reducing motion level to {motion_level}\")\n",
        "        levels.append(motion_level)\n",
        "        motion_level -= 1\n",
        "\n",
        "    # TODO: Implement while loop to reduce motion level\n",
        "    return \"Complete\"\n",
        "print(reduce_motion_artifacts())"
      ],
      "metadata": {
        "colab": {
          "base_uri": "https://localhost:8080/"
        },
        "id": "hQn7x0zjYyUI",
        "outputId": "e64a765a-a779-4586-949b-450d70587f95"
      },
      "execution_count": 18,
      "outputs": [
        {
          "output_type": "stream",
          "name": "stdout",
          "text": [
            "Reducing motion level to 5\n",
            "Reducing motion level to 4\n",
            "Reducing motion level to 3\n",
            "Reducing motion level to 2\n",
            "Complete\n"
          ]
        }
      ]
    },
    {
      "cell_type": "code",
      "source": [
        "def print_patient_info():\n",
        "    \"\"\"\n",
        "    Exercise 20: Use while loop to print patient information key-value pairs.\n",
        "\n",
        "    Returns:\n",
        "        list: List of formatted strings with patient information\n",
        "    \"\"\"\n",
        "    patient = {\n",
        "        \"ID\": 101,\n",
        "        \"Name\": \"Alice\",\n",
        "        \"Age\": 45,\n",
        "        \"Modality\": \"MRI\"\n",
        "    }\n",
        "    info_strings = []\n",
        "    while patient:\n",
        "        key, value = patient.popitem()\n",
        "        info_strings.append(f\"{key}: {value}\")\n",
        "\n",
        "    # TODO: Implement while loop to format patient information\n",
        "\n",
        "    return info_strings\n",
        "\n",
        "\n",
        "print(print_patient_info())\n"
      ],
      "metadata": {
        "colab": {
          "base_uri": "https://localhost:8080/"
        },
        "id": "iMT8mXocbXNR",
        "outputId": "ae6218d6-25a4-4dc8-9f77-660d4b1d6cc5"
      },
      "execution_count": 24,
      "outputs": [
        {
          "output_type": "stream",
          "name": "stdout",
          "text": [
            "['Modality: MRI', 'Age: 45', 'Name: Alice', 'ID: 101']\n"
          ]
        }
      ]
    }
  ]
}